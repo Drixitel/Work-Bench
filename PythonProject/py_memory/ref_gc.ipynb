{
 "cells": [
  {
   "cell_type": "markdown",
   "metadata": {},
   "source": [
    "# Reference Count and Garbage Collector"
   ]
  },
  {
   "cell_type": "code",
   "execution_count": 5,
   "metadata": {},
   "outputs": [],
   "source": [
    "\"\"\"\n",
    "Increasing the Reference Count \n",
    "\"\"\"\n",
    "\n",
    "import sys \n",
    "\n",
    "\n",
    "# Set a simple object \n",
    "\n",
    "x = 300                 # this sets the (refs. to value 300) = 1 \n",
    "\n",
    "                        # in python the refs. does not always start at 0\n",
    "\n",
    "y = 300                 # now (refs. to value 300) = 2\n",
    "\n",
    "z = [300,300]           # (refs. to value 300) = 4\n",
    "w = [x,y]\n"
   ]
  },
  {
   "cell_type": "code",
   "execution_count": 2,
   "metadata": {},
   "outputs": [],
   "source": [
    "# \"\"\"\n",
    "# Decreasing the Reference Count \n",
    "# \"\"\"\n",
    "\n",
    "# import sys \n",
    "\n",
    "\n",
    "# # Set a simple object \n",
    "\n",
    "# x = 300                 # this sets the (refs. to value 300) = 1 \n",
    "\n",
    "#                         # in python the refs. does not always start at 0\n",
    "\n",
    "# y = 300                 # now (refs. to value 300) = 2\n",
    "\n",
    "# # The following removes 2 references to the value 300 \n",
    "# x = True                \n",
    "# y = None\n",
    "\n",
    "# # or use delete (del)\n",
    "\n",
    "# del x                   # also removes count, does not delete objects ! \n"
   ]
  },
  {
   "cell_type": "code",
   "execution_count": 6,
   "metadata": {},
   "outputs": [
    {
     "name": "stdout",
     "output_type": "stream",
     "text": [
      "3\n"
     ]
    }
   ],
   "source": [
    "import gc\n",
    "\n",
    "gc.get_threshold()\n",
    "\n",
    "print(sys.getrefcount(300))\n",
    "# gc.get_referrers(x)\n",
    "# print(len(gc.get_referrers(300))) # dictionary of # of times x is assigned "
   ]
  }
 ],
 "metadata": {
  "kernelspec": {
   "display_name": ".venv",
   "language": "python",
   "name": "python3"
  },
  "language_info": {
   "codemirror_mode": {
    "name": "ipython",
    "version": 3
   },
   "file_extension": ".py",
   "mimetype": "text/x-python",
   "name": "python",
   "nbconvert_exporter": "python",
   "pygments_lexer": "ipython3",
   "version": "3.8.10"
  },
  "orig_nbformat": 4
 },
 "nbformat": 4,
 "nbformat_minor": 2
}
