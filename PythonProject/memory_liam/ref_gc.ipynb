{
 "cells": [
  {
   "cell_type": "markdown",
   "metadata": {},
   "source": [
    "# Reference Count and Garbage Collector"
   ]
  },
  {
   "cell_type": "code",
   "execution_count": null,
   "metadata": {},
   "outputs": [],
   "source": [
    "\"\"\"\n",
    "Increasing the Reference Count \n",
    "\"\"\"\n",
    "\n",
    "import sys \n",
    "import gc\n",
    "import ctypes\n",
    "\n",
    "# Set a simple object \n",
    "\n",
    "x = 300                 # this sets the (refs. to value 300) = 1 \n",
    "x_address = id(x)\n",
    "# print(ctypes.c_long.from_address(x).value)\n",
    "\n",
    "                        # in python the refs. does not always start at 0\n",
    "\n",
    "y = 300                 # now (refs. to value 300) = 2\n",
    "\n",
    "z = [300,300]           # (refs. to value 300) = 4\n",
    "\n"
   ]
  }
 ],
 "metadata": {
  "kernelspec": {
   "display_name": ".venv",
   "language": "python",
   "name": "python3"
  },
  "language_info": {
   "codemirror_mode": {
    "name": "ipython",
    "version": 3
   },
   "file_extension": ".py",
   "mimetype": "text/x-python",
   "name": "python",
   "nbconvert_exporter": "python",
   "pygments_lexer": "ipython3",
   "version": "3.8.10"
  },
  "orig_nbformat": 4
 },
 "nbformat": 4,
 "nbformat_minor": 2
}
