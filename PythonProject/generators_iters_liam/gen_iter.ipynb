{
 "cells": [
  {
   "cell_type": "markdown",
   "metadata": {},
   "source": [
    "# Generators and Iterators "
   ]
  },
  {
   "cell_type": "code",
   "execution_count": 1,
   "metadata": {},
   "outputs": [
    {
     "name": "stdout",
     "output_type": "stream",
     "text": [
      "1\n",
      "2\n",
      "3\n",
      "4\n",
      "5\n",
      "6\n",
      "7\n",
      "8\n",
      "9\n",
      "10\n",
      "136 bytes\n",
      "Sim time: 0.00032639503479003906 weird the time always changes\n"
     ]
    }
   ],
   "source": [
    "\"\"\" \n",
    "No range() and no while() \n",
    "\n",
    "- the larger the list the larger the memory, we do not want this\n",
    "\n",
    "\"\"\"\n",
    "\n",
    "import sys \n",
    "import time\n",
    "\n",
    "sim_time = time.time()\n",
    "x = [1,2,3,4,5,6,7,8,9,10] # this is immediately stored in memory when it's run\n",
    "\n",
    "# processing \" print the values one at a time \"\n",
    "for i in x: \n",
    "    print(i)\n",
    "\n",
    "end_time = time.time() - sim_time\n",
    "\n",
    "\n",
    "print(sys.getsizeof(x), \"bytes\")\n",
    "print(\"Sim time:\", end_time, \"weird the time always changes\")"
   ]
  },
  {
   "cell_type": "code",
   "execution_count": 2,
   "metadata": {},
   "outputs": [
    {
     "name": "stdout",
     "output_type": "stream",
     "text": [
      "1\n",
      "2\n",
      "3\n",
      "4\n",
      "5\n",
      "6\n",
      "7\n",
      "8\n",
      "9\n",
      "10\n",
      "48 bytes\n",
      "Sim time: 0.0005576610565185547 weird the time always changes\n"
     ]
    }
   ],
   "source": [
    "\"\"\" \n",
    "range() : is not an iterator but is iterable\n",
    "\n",
    "- less mem and less time \n",
    "\n",
    "\"\"\"\n",
    "\n",
    "import sys \n",
    "import time\n",
    "\n",
    "sim_time = time.time()\n",
    "# x = [1,2,3,4,5,6,7,8,9,10] # mem\n",
    "\n",
    "# # processing \" print the values one at a time \"\n",
    "# for i in x: \n",
    "#     print(i)\n",
    "\n",
    "for i in range(1,11):  # does not store the numbers 1-10\n",
    "    print(i)\n",
    "\n",
    "end_time = time.time() - sim_time\n",
    "\n",
    "\n",
    "print(sys.getsizeof(range(1,11)), \"bytes\")\n",
    "print(\"Sim time:\", end_time, \"weird the time always changes\")"
   ]
  },
  {
   "cell_type": "code",
   "execution_count": 15,
   "metadata": {},
   "outputs": [
    {
     "name": "stdout",
     "output_type": "stream",
     "text": [
      "y is:  <map object at 0x7f4b9007b400>\n",
      "1\n",
      "4\n",
      "9\n",
      "16\n",
      "25\n",
      "36\n",
      "49\n",
      "64\n",
      "81\n",
      "100\n",
      "48 bytes\n",
      "56 bytes\n",
      "Sim time: 0.00018215179443359375 weird the time always changes\n"
     ]
    }
   ],
   "source": [
    "\"\"\" \n",
    "map() : is an iterator \n",
    "\n",
    "- maps all of the values from, say a list/data structure, to a function (lambda) \n",
    "- applies function to values and returns an iterator that contains all of the results of the function\n",
    "\"\"\"\n",
    "\n",
    "import sys \n",
    "import time\n",
    "\n",
    "sim_time = time.time()\n",
    "x = [1,2,3,4,5,6,7,8,9,10] # this is immediately stored in memory when it's run\n",
    "\n",
    "# # processing \" print the values one at a time \"\n",
    "# for i in x: \n",
    "#     print(i)\n",
    "\n",
    "# Create a generator/iterator \n",
    "y = map(lambda i: i**2, x) # does not store to a list \n",
    "# Returns:  [1,4,9,16,25, ... , 100]\n",
    "\n",
    "end_time = time.time() - sim_time\n",
    "\n",
    "print(\"y is: \", y)\n",
    "# print(\"View map representation by saving to list: \", list(y)) # uncomment to see the for loop work ! \n",
    "\n",
    "\n",
    "# Process mapped object \"print\"     THIS DOESN'T WORK BC list(y) already called it! \n",
    "for i in y: \n",
    "    print(i)\n",
    "\n",
    "\n",
    "\n",
    "print(sys.getsizeof(y), \"bytes\")\n",
    "print(sys.getsizeof(list(y)), \"bytes\")\n",
    "print(\"Sim time:\", end_time, \"weird the time always changes\")\n"
   ]
  },
  {
   "cell_type": "code",
   "execution_count": 4,
   "metadata": {},
   "outputs": [
    {
     "name": "stdout",
     "output_type": "stream",
     "text": [
      "1\n",
      "4\n",
      "9\n",
      "16\n",
      "25\n",
      "36\n",
      "49\n",
      "64\n",
      "81\n",
      "100\n",
      "y is:  <map object at 0x7f4b90076c10>\n",
      "48 bytes\n",
      "56 bytes\n",
      "Sim time: 0.0001571178436279297 weird the time always changes\n"
     ]
    }
   ],
   "source": [
    "\"\"\" \n",
    "MORE on Map\n",
    "map() : is an iterator \n",
    "\n",
    "- maps all of the values from, say a list/data structure, to a function (lambda) \n",
    "- applies function to values and returns an iterator that contains all of the results of the function\n",
    "\"\"\"\n",
    "\n",
    "import sys \n",
    "import time\n",
    "\n",
    "sim_time = time.time()\n",
    "x = [1,2,3,4,5,6,7,8,9,10] # this is immediately stored in memory when it's run\n",
    "\n",
    "# # processing \" print the values one at a time \"\n",
    "# for i in x: \n",
    "#     print(i)\n",
    "\n",
    "# Create a generator/iterator \n",
    "y = map(lambda i: i**2, x) # does not store to a list \n",
    "# Returns:  [1,4,9,16,25, ... , 100]\n",
    "\n",
    "end_time = time.time() - sim_time\n",
    "\n",
    "# Process mapped object \"print\"     THIS DOESN'T WORK BC list(y) already called it! \n",
    "for i in y: \n",
    "    print(i)\n",
    "\n",
    "print(\"y is: \", y)\n",
    "print(sys.getsizeof(y), \"bytes\")\n",
    "print(sys.getsizeof(list(y)), \"bytes\")\n",
    "print(\"Sim time:\", end_time, \"weird the time always changes\")\n",
    "\n"
   ]
  },
  {
   "cell_type": "code",
   "execution_count": 5,
   "metadata": {},
   "outputs": [
    {
     "name": "stdout",
     "output_type": "stream",
     "text": [
      "1\n",
      "4\n",
      "9\n",
      "16\n",
      "For loop starts\n",
      "25\n",
      "36\n",
      "49\n",
      "64\n",
      "81\n",
      "100\n",
      "\n",
      "checking the map y:\n",
      "\n",
      "The provided object is (iterator or iterable)\n",
      "__next__ found, <class 'map'> is an iterator\n",
      "__iter__ found, <class 'map'>  is iterable\n",
      "\n",
      "checking original list:\n",
      "\n",
      "The provided object is (iterator or iterable)\n",
      "__iter__ found, <class 'list'>  is iterable\n",
      "\n",
      "test\n",
      "\n",
      "The provided object is (iterator or iterable)\n",
      "<class 'int'> either not iterator or not iterable \n",
      "\n",
      "check range\n",
      "\n",
      "The provided object is (iterator or iterable)\n",
      "__iter__ found, <class 'range'>  is iterable\n"
     ]
    }
   ],
   "source": [
    "\"\"\" \n",
    "Method/ Dunder methods\n",
    "\n",
    "- next()  = __next__()  => is an iterator \n",
    "- iter()  = __iter__()  => is iterable \n",
    "\n",
    "\"\"\"\n",
    "\n",
    "x = [1,2,3,4,5,6,7,8,9,10] # this is immediately stored in memory when it's run\n",
    "\n",
    "\n",
    "# Create a generator/iterator \n",
    "y = map(lambda i: i**2, x) # does not store to a list \n",
    "# Returns:  [1,4,9,16,25, ... , 100]\n",
    "\n",
    "\n",
    "# for loop has next, and so it picks up from previous left off next() of the sequence \n",
    "print(next(y))\n",
    "print(next(y))\n",
    "print(next(y))\n",
    "print(next(y))\n",
    "print(\"For loop starts\")\n",
    "\n",
    "for i in y:     # calls next on iterable obj until there is no more items in the sequence \n",
    "    print(i)\n",
    "\n",
    "# print(dir(y))\n",
    "\n",
    "def check_iterable_or_iterator(y): \n",
    "    \"\"\" input: y = object \"\"\"\n",
    "    name = type(y)\n",
    "    print(\"\\nThe provided object is (iterator or iterable)\")\n",
    "    if '__next__' in dir(y):\n",
    "        print(f'__next__ found, {name} is an iterator')\n",
    "    if '__iter__' in dir(y):\n",
    "        print(f'__iter__ found, {name}  is iterable')\n",
    "    else:\n",
    "        print(f\"{name} either not iterator or not iterable \")\n",
    "\n",
    "print('\\nchecking the map y:')\n",
    "check_iterable_or_iterator(y)\n",
    "print('\\nchecking original list:')\n",
    "check_iterable_or_iterator(x)\n",
    "\n",
    "print('\\ntest')\n",
    "check_iterable_or_iterator(1)\n",
    "\n",
    "print(\"\\ncheck range\")\n",
    "check_iterable_or_iterator(range(1,11))"
   ]
  },
  {
   "cell_type": "code",
   "execution_count": 19,
   "metadata": {},
   "outputs": [
    {
     "name": "stdout",
     "output_type": "stream",
     "text": [
      "1\n",
      "4\n",
      "9\n",
      "16\n",
      "25\n",
      "36\n",
      "49\n",
      "64\n",
      "81\n",
      "100\n",
      "while loop\n",
      "done\n"
     ]
    }
   ],
   "source": [
    "\"\"\" \n",
    "What a For Loop is doing \n",
    "\n",
    "Method/ Dunder methods\n",
    "- next()  = __next__()  => is an iterator \n",
    "- iter()  = __iter__()  => is iterable \n",
    "\n",
    "\"\"\"\n",
    "\n",
    "x = [1,2,3,4,5,6,7,8,9,10] # this is immediately stored in memory when it's run\n",
    "\n",
    "\n",
    "# Create a generator/iterator \n",
    "y = map(lambda i: i**2, x) # does not store to a list \n",
    "# Returns:  [1,4,9,16,25, ... , 100]\n",
    "\n",
    "\n",
    "# for i in y:      \n",
    "#     print(i)\n",
    "\n",
    "# print(\"while loop\")\n",
    "\n",
    "# This is a for loop as a while loop using next\n",
    "while True: \n",
    "    try: \n",
    "        value = next(y)\n",
    "        print(value)\n",
    "    except StopIteration:\n",
    "        print(\"done\")\n",
    "        break\n",
    "\n"
   ]
  },
  {
   "cell_type": "code",
   "execution_count": 26,
   "metadata": {},
   "outputs": [
    {
     "name": "stdout",
     "output_type": "stream",
     "text": [
      "(0, 'QUEQE')\n",
      "<class 'str'>\n",
      "(1, 'QUEQE')\n",
      "<class 'str'>\n",
      "(2, 'QUEQE')\n",
      "<class 'str'>\n",
      "(3, 'QUEQE')\n",
      "<class 'str'>\n",
      "(4, 'QUEQE')\n",
      "<class 'str'>\n"
     ]
    }
   ],
   "source": [
    "\"\"\" Generators example 1.1 \"\"\"\n",
    "\n",
    "import sys\n",
    "\n",
    "def generator(n): \n",
    "    ''' Takes numbers '''\n",
    "    for i in range(n): # range does not save to mem\n",
    "        yield i,\"QUEQE\"        # when yield is hit it pauses execution of function & returns\n",
    "        # yield 2\n",
    "        # yield print(\"hello\")\n",
    "\n",
    "for i in generator(5):\n",
    "    print(i)\n",
    "    print(type(i[1]))\n"
   ]
  },
  {
   "cell_type": "code",
   "execution_count": 8,
   "metadata": {},
   "outputs": [
    {
     "name": "stdout",
     "output_type": "stream",
     "text": [
      "112 bytes\n",
      "<class 'generator'>\n",
      "0\n",
      "28 bytes\n",
      "<class 'int'>\n",
      "3\n"
     ]
    }
   ],
   "source": [
    "\"\"\" Generators example 1.2 \"\"\"\n",
    "\n",
    "import sys\n",
    "\n",
    "def generator(n): \n",
    "    ''' Takes numbers '''\n",
    "    for i in range(n): # range does not save to mem\n",
    "        yield i        # when yield is hit it pauses execution of function & returns\n",
    "\n",
    "x = generator(5)\n",
    "print(sys.getsizeof(x), \"bytes\")\n",
    "print(type(x))\n",
    "\n",
    "print(next(x))                          # next is called buffer is dumped 0 \n",
    "print(sys.getsizeof(next(x)), \"bytes\")  # next is called buffer is dumped 1\n",
    "print(type(next(x)))                    # next is called buffer is dumped 2\n",
    "\n",
    "print(next(x))                          # next is called buffer is dumped 3"
   ]
  },
  {
   "cell_type": "code",
   "execution_count": 9,
   "metadata": {},
   "outputs": [
    {
     "name": "stdout",
     "output_type": "stream",
     "text": [
      "generator size 112 bytes\n",
      "<class 'generator'>\n",
      "list size:  4069368 bytes\n",
      "\n",
      "2nd generator size 112 bytes\n",
      "map size:  48 bytes\n"
     ]
    },
    {
     "name": "stdout",
     "output_type": "stream",
     "text": [
      "map as a list size:  4069368 bytes\n",
      "\n",
      "3rd generator size 112 bytes\n",
      "map 1 size:  48 bytes\n",
      "map 2 size:  48 bytes\n",
      "map3 as a list size:  4069368 bytes\n",
      "sim time for 3rd mapping:  0.0012919902801513672\n"
     ]
    }
   ],
   "source": [
    "\"\"\" Generators example 1.3 \"\"\"\n",
    "\n",
    "import sys\n",
    "\n",
    "def generator(n): \n",
    "    ''' Takes numbers '''\n",
    "    for i in range(n): # range does not save to mem\n",
    "        yield i        # when yield is hit it pauses execution of function & returns\n",
    "\n",
    "x = generator(500_000)\n",
    "print(\"generator size\", sys.getsizeof(x), \"bytes\")\n",
    "print(type(x))\n",
    "\n",
    "y = list(x)\n",
    "print(\"list size: \", sys.getsizeof(y), \"bytes\")\n",
    "# print(\"saved generator to list\", y)\n",
    "\n",
    "# -----------------------------------------------------------------\n",
    "\n",
    "x2 = generator(500_000)\n",
    "print(\"\\n2nd generator size\", sys.getsizeof(x2), \"bytes\")\n",
    "z = map(lambda i: i**2, x2)\n",
    "print(\"map size: \", sys.getsizeof(z), \"bytes\")\n",
    "z_list = list(z)\n",
    "print(\"map as a list size: \", sys.getsizeof(z_list), \"bytes\")\n",
    "# print(z_list)\n",
    "\n",
    "# -----------------------------------------------------------------\n",
    "start_time = time.time()\n",
    "x3 = generator(500_000)\n",
    "print(\"\\n3rd generator size\", sys.getsizeof(x2), \"bytes\")\n",
    "y3 = map(lambda i: i**2, x3)\n",
    "print(\"map 1 size: \", sys.getsizeof(z), \"bytes\")\n",
    "z3 = map(lambda i: i+4, y3)\n",
    "\n",
    "end_time = time.time() - start_time\n",
    "\n",
    "print(\"map 2 size: \", sys.getsizeof(z), \"bytes\")\n",
    "z3_list = list(z3)\n",
    "print(\"map3 as a list size: \", sys.getsizeof(z3_list), \"bytes\")\n",
    "print(f\"sim time for 3rd mapping: \", end_time)\n",
    "\n",
    "\n",
    "\n",
    "# print(z3_list)\n",
    "# x3 = [0,1] = generator(2) example \n",
    "# y3 = [0**2, 1**2] = [0,1]\n",
    "# z3 = [0+4, 1 + 4] = [4,5]"
   ]
  },
  {
   "cell_type": "code",
   "execution_count": 10,
   "metadata": {},
   "outputs": [
    {
     "name": "stdout",
     "output_type": "stream",
     "text": [
      "1\n",
      "pause 1\n",
      "2\n"
     ]
    }
   ],
   "source": [
    "\"\"\" Generators example 1.3 \"\"\"\n",
    "\n",
    "import sys\n",
    "\n",
    "def generator(): \n",
    "    yield 1\n",
    "    print('pause 1')\n",
    "    yield 2\n",
    "    print('pause 2')\n",
    "    yield 3\n",
    "    print('pause 3')\n",
    "    yield 4\n",
    "\n",
    "\n",
    "x = generator()\n",
    "print(next(x))\n",
    "print(next(x))"
   ]
  },
  {
   "cell_type": "code",
   "execution_count": 11,
   "metadata": {},
   "outputs": [],
   "source": [
    "\"\"\" Generators example: Data Files \"\"\"\n",
    "import sys\n",
    "\n",
    "def csv_reader(file_name):\n",
    "    for row in open(file_name, \"r\"):\n",
    "        yield row                       # pause is given after each row until next() is called again\n"
   ]
  },
  {
   "cell_type": "code",
   "execution_count": 13,
   "metadata": {},
   "outputs": [
    {
     "name": "stdout",
     "output_type": "stream",
     "text": [
      "\n",
      "The provided object is (iterator or iterable)\n",
      "__iter__ found, <class 'list'>  is iterable\n",
      "\n",
      "The provided object is (iterator or iterable)\n",
      "__next__ found, <class 'generator'> is an iterator\n",
      "__iter__ found, <class 'generator'>  is iterable\n",
      "0\n",
      "1\n",
      "2\n",
      "3\n",
      "4\n",
      "5\n",
      "6\n",
      "7\n",
      "8\n",
      "9\n"
     ]
    }
   ],
   "source": [
    "\"\"\" Generators without use of functions \"\"\"\n",
    "\n",
    "y = [1,2,3] # brackets are lists \n",
    "\n",
    "check_iterable_or_iterator(y)\n",
    "\n",
    "x = (i for i in range(10)) # parenthesis are generators \n",
    "\n",
    "check_iterable_or_iterator(x)\n",
    "\n",
    "\n",
    "for j in x:\n",
    "    print(j)"
   ]
  }
 ],
 "metadata": {
  "kernelspec": {
   "display_name": ".venv",
   "language": "python",
   "name": "python3"
  },
  "language_info": {
   "codemirror_mode": {
    "name": "ipython",
    "version": 3
   },
   "file_extension": ".py",
   "mimetype": "text/x-python",
   "name": "python",
   "nbconvert_exporter": "python",
   "pygments_lexer": "ipython3",
   "version": "3.8.10"
  },
  "orig_nbformat": 4
 },
 "nbformat": 4,
 "nbformat_minor": 2
}
